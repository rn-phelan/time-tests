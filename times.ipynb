{
 "cells": [
  {
   "cell_type": "code",
   "execution_count": 17,
   "metadata": {},
   "outputs": [],
   "source": [
    "import datetime\n",
    "from pytest import raises"
   ]
  },
  {
   "cell_type": "code",
   "execution_count": 27,
   "metadata": {},
   "outputs": [
    {
     "name": "stdout",
     "output_type": "stream",
     "text": [
      "7200.0\n",
      "[('2010-01-12 10:00:00', '2010-01-12 12:00:00')] <class 'tuple'>\n",
      "420.0\n",
      "[('2010-01-12 10:30:00', '2010-01-12 10:37:00'), ('2010-01-12 10:38:00', '2010-01-12 10:45:00')]\n"
     ]
    }
   ],
   "source": [
    "\n",
    "\n",
    "def time_range(start_time, end_time, number_of_intervals=1, gap_between_intervals_s=0):\n",
    "    # Get datetime objects\n",
    "    start_time_s = datetime.datetime.strptime(start_time, \"%Y-%m-%d %H:%M:%S\")\n",
    "    end_time_s = datetime.datetime.strptime(end_time, \"%Y-%m-%d %H:%M:%S\")\n",
    "    if start_time_s > end_time_s:\n",
    "        raise ValueError(\"Start time is later than end time\")\n",
    "    # Calculate the time interval\n",
    "    d = (end_time_s - start_time_s).total_seconds() / number_of_intervals + gap_between_intervals_s * (1 / number_of_intervals - 1)\n",
    "    print(d)\n",
    "    sec_range = [(start_time_s + datetime.timedelta(seconds=i * d + i * gap_between_intervals_s),\n",
    "                  start_time_s + datetime.timedelta(seconds=(i + 1) * d + i * gap_between_intervals_s))\n",
    "                 for i in range(number_of_intervals)]\n",
    "    return [(ta.strftime(\"%Y-%m-%d %H:%M:%S\"), tb.strftime(\"%Y-%m-%d %H:%M:%S\")) for ta, tb in sec_range]\n",
    "\n",
    "\n",
    "def compute_overlap_time(range1, range2):\n",
    "    overlap_time = []\n",
    "    for start1, end1 in range1:\n",
    "        for start2, end2 in range2:\n",
    "            low = max(start1, start2)\n",
    "            high = min(end1, end2)\n",
    "            overlap_time.append((low, high))\n",
    "            # assert low < high, \"There is no overlap time\"\n",
    "    return overlap_time\n",
    "\n",
    "if __name__ == \"__main__\":\n",
    "    large = time_range(\"2010-01-12 10:00:00\", \"2010-01-12 12:00:00\")\n",
    "    print(large, type(large[0]))\n",
    "    short = time_range(\"2010-01-12 10:30:00\", \"2010-01-12 10:45:00\", 2, 60)\n",
    "    print(compute_overlap_time(large, short))"
   ]
  },
  {
   "cell_type": "code",
   "execution_count": 19,
   "metadata": {},
   "outputs": [
    {
     "name": "stdout",
     "output_type": "stream",
     "text": [
      "7200.0\n",
      "3600.0\n"
     ]
    },
    {
     "ename": "AssertionError",
     "evalue": "The overlap time is not valid!",
     "output_type": "error",
     "traceback": [
      "\u001b[0;31m---------------------------------------------------------------------------\u001b[0m",
      "\u001b[0;31mAssertionError\u001b[0m                            Traceback (most recent call last)",
      "Cell \u001b[0;32mIn[19], line 3\u001b[0m\n\u001b[1;32m      1\u001b[0m large \u001b[38;5;241m=\u001b[39m time_range(\u001b[38;5;124m\"\u001b[39m\u001b[38;5;124m2010-01-12 10:00:00\u001b[39m\u001b[38;5;124m\"\u001b[39m, \u001b[38;5;124m\"\u001b[39m\u001b[38;5;124m2010-01-12 12:00:00\u001b[39m\u001b[38;5;124m\"\u001b[39m)\n\u001b[1;32m      2\u001b[0m short \u001b[38;5;241m=\u001b[39m time_range(\u001b[38;5;124m\"\u001b[39m\u001b[38;5;124m2010-01-12 13:00:00\u001b[39m\u001b[38;5;124m\"\u001b[39m, \u001b[38;5;124m\"\u001b[39m\u001b[38;5;124m2010-01-12 14:00:00\u001b[39m\u001b[38;5;124m\"\u001b[39m)\n\u001b[0;32m----> 3\u001b[0m \u001b[38;5;28mprint\u001b[39m(\u001b[38;5;124m'\u001b[39m\u001b[38;5;124moverlap 2\u001b[39m\u001b[38;5;124m'\u001b[39m, \u001b[43mcompute_overlap_time\u001b[49m\u001b[43m(\u001b[49m\u001b[43mlarge\u001b[49m\u001b[43m,\u001b[49m\u001b[43m \u001b[49m\u001b[43mshort\u001b[49m\u001b[43m)\u001b[49m)\n\u001b[1;32m      4\u001b[0m \u001b[38;5;66;03m# print('overlap 2', large)\u001b[39;00m\n\u001b[1;32m      5\u001b[0m \u001b[38;5;28;01mfor\u001b[39;00m a, b \u001b[38;5;129;01min\u001b[39;00m compute_overlap_time(large, short):\n",
      "Cell \u001b[0;32mIn[18], line 21\u001b[0m, in \u001b[0;36mcompute_overlap_time\u001b[0;34m(range1, range2)\u001b[0m\n\u001b[1;32m     19\u001b[0m         high \u001b[38;5;241m=\u001b[39m \u001b[38;5;28mmin\u001b[39m(end1, end2)\n\u001b[1;32m     20\u001b[0m         overlap_time\u001b[38;5;241m.\u001b[39mappend((low, high))\n\u001b[0;32m---> 21\u001b[0m         \u001b[38;5;28;01massert\u001b[39;00m low \u001b[38;5;241m<\u001b[39m high, \u001b[38;5;124m\"\u001b[39m\u001b[38;5;124mThe overlap time is not valid!\u001b[39m\u001b[38;5;124m\"\u001b[39m\n\u001b[1;32m     22\u001b[0m \u001b[38;5;28;01mreturn\u001b[39;00m overlap_time\n",
      "\u001b[0;31mAssertionError\u001b[0m: The overlap time is not valid!"
     ]
    }
   ],
   "source": [
    "large = time_range(\"2010-01-12 10:00:00\", \"2010-01-12 12:00:00\")\n",
    "short = time_range(\"2010-01-12 13:00:00\", \"2010-01-12 14:00:00\")\n",
    "print('overlap 2', compute_overlap_time(large, short))\n",
    "# print('overlap 2', large)\n",
    "for a, b in compute_overlap_time(large, short):\n",
    "    print(a)\n",
    "    print(b)\n",
    "    if a > b:\n",
    "        print(f\"{a} is later than {b}\")\n",
    "        raise ValueError(f\"Final time: {a} is later than Beginning time: {b}\")\n",
    "    else:\n",
    "        print(f\"{a} is not later than {b}\")"
   ]
  },
  {
   "cell_type": "code",
   "execution_count": 24,
   "metadata": {},
   "outputs": [
    {
     "name": "stdout",
     "output_type": "stream",
     "text": [
      "7200.0\n",
      "7200.0\n",
      "overlap 2 [('2010-01-12 12:00:00', '2010-01-12 12:00:00')]\n"
     ]
    }
   ],
   "source": [
    "\n",
    "large = time_range(\"2010-01-12 10:00:00\", \"2010-01-12 12:00:00\")\n",
    "short = time_range(\"2010-01-12 12:00:00\", \"2010-01-12 14:00:00\")\n",
    "print('overlap 2', compute_overlap_time(large, short))"
   ]
  },
  {
   "cell_type": "code",
   "execution_count": 28,
   "metadata": {},
   "outputs": [
    {
     "ename": "ValueError",
     "evalue": "Start time is later than end time",
     "output_type": "error",
     "traceback": [
      "\u001b[0;31m---------------------------------------------------------------------------\u001b[0m",
      "\u001b[0;31mValueError\u001b[0m                                Traceback (most recent call last)",
      "Cell \u001b[0;32mIn[28], line 1\u001b[0m\n\u001b[0;32m----> 1\u001b[0m \u001b[43mtime_range\u001b[49m\u001b[43m(\u001b[49m\u001b[38;5;124;43m\"\u001b[39;49m\u001b[38;5;124;43m2010-01-12 14:00:00\u001b[39;49m\u001b[38;5;124;43m\"\u001b[39;49m\u001b[43m,\u001b[49m\u001b[43m \u001b[49m\u001b[38;5;124;43m\"\u001b[39;49m\u001b[38;5;124;43m2010-01-12 12:00:00\u001b[39;49m\u001b[38;5;124;43m\"\u001b[39;49m\u001b[43m)\u001b[49m\n",
      "Cell \u001b[0;32mIn[27], line 6\u001b[0m, in \u001b[0;36mtime_range\u001b[0;34m(start_time, end_time, number_of_intervals, gap_between_intervals_s)\u001b[0m\n\u001b[1;32m      4\u001b[0m end_time_s \u001b[38;5;241m=\u001b[39m datetime\u001b[38;5;241m.\u001b[39mdatetime\u001b[38;5;241m.\u001b[39mstrptime(end_time, \u001b[38;5;124m\"\u001b[39m\u001b[38;5;124m%\u001b[39m\u001b[38;5;124mY-\u001b[39m\u001b[38;5;124m%\u001b[39m\u001b[38;5;124mm-\u001b[39m\u001b[38;5;132;01m%d\u001b[39;00m\u001b[38;5;124m \u001b[39m\u001b[38;5;124m%\u001b[39m\u001b[38;5;124mH:\u001b[39m\u001b[38;5;124m%\u001b[39m\u001b[38;5;124mM:\u001b[39m\u001b[38;5;124m%\u001b[39m\u001b[38;5;124mS\u001b[39m\u001b[38;5;124m\"\u001b[39m)\n\u001b[1;32m      5\u001b[0m \u001b[38;5;28;01mif\u001b[39;00m start_time_s \u001b[38;5;241m>\u001b[39m end_time_s:\n\u001b[0;32m----> 6\u001b[0m     \u001b[38;5;28;01mraise\u001b[39;00m \u001b[38;5;167;01mValueError\u001b[39;00m(\u001b[38;5;124m\"\u001b[39m\u001b[38;5;124mStart time is later than end time\u001b[39m\u001b[38;5;124m\"\u001b[39m)\n\u001b[1;32m      7\u001b[0m \u001b[38;5;66;03m# Calculate the time interval\u001b[39;00m\n\u001b[1;32m      8\u001b[0m d \u001b[38;5;241m=\u001b[39m (end_time_s \u001b[38;5;241m-\u001b[39m start_time_s)\u001b[38;5;241m.\u001b[39mtotal_seconds() \u001b[38;5;241m/\u001b[39m number_of_intervals \u001b[38;5;241m+\u001b[39m gap_between_intervals_s \u001b[38;5;241m*\u001b[39m (\u001b[38;5;241m1\u001b[39m \u001b[38;5;241m/\u001b[39m number_of_intervals \u001b[38;5;241m-\u001b[39m \u001b[38;5;241m1\u001b[39m)\n",
      "\u001b[0;31mValueError\u001b[0m: Start time is later than end time"
     ]
    }
   ],
   "source": [
    "time_range(\"2010-01-12 14:00:00\", \"2010-01-12 12:00:00\")"
   ]
  },
  {
   "cell_type": "code",
   "execution_count": null,
   "metadata": {},
   "outputs": [],
   "source": []
  }
 ],
 "metadata": {
  "kernelspec": {
   "display_name": "comp0233",
   "language": "python",
   "name": "python3"
  },
  "language_info": {
   "codemirror_mode": {
    "name": "ipython",
    "version": 3
   },
   "file_extension": ".py",
   "mimetype": "text/x-python",
   "name": "python",
   "nbconvert_exporter": "python",
   "pygments_lexer": "ipython3",
   "version": "3.13.0"
  }
 },
 "nbformat": 4,
 "nbformat_minor": 2
}
