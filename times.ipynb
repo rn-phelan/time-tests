{
 "cells": [
  {
   "cell_type": "code",
   "execution_count": 3,
   "metadata": {},
   "outputs": [
    {
     "name": "stdout",
     "output_type": "stream",
     "text": [
      "7200.0\n",
      "[('2010-01-12 10:00:00', '2010-01-12 12:00:00')] <class 'tuple'>\n",
      "420.0\n",
      "[('2010-01-12 10:30:00', '2010-01-12 10:37:00'), ('2010-01-12 10:38:00', '2010-01-12 10:45:00')]\n"
     ]
    }
   ],
   "source": [
    "import datetime\n",
    "\n",
    "\n",
    "def time_range(start_time, end_time, number_of_intervals=1, gap_between_intervals_s=0):\n",
    "    # Get datetime objects\n",
    "    start_time_s = datetime.datetime.strptime(start_time, \"%Y-%m-%d %H:%M:%S\")\n",
    "    end_time_s = datetime.datetime.strptime(end_time, \"%Y-%m-%d %H:%M:%S\")\n",
    "    # Calculate the time interval\n",
    "    d = (end_time_s - start_time_s).total_seconds() / number_of_intervals + gap_between_intervals_s * (1 / number_of_intervals - 1)\n",
    "    print(d)\n",
    "    sec_range = [(start_time_s + datetime.timedelta(seconds=i * d + i * gap_between_intervals_s),\n",
    "                  start_time_s + datetime.timedelta(seconds=(i + 1) * d + i * gap_between_intervals_s))\n",
    "                 for i in range(number_of_intervals)]\n",
    "    return [(ta.strftime(\"%Y-%m-%d %H:%M:%S\"), tb.strftime(\"%Y-%m-%d %H:%M:%S\")) for ta, tb in sec_range]\n",
    "\n",
    "\n",
    "def compute_overlap_time(range1, range2):\n",
    "    overlap_time = []\n",
    "    for start1, end1 in range1:\n",
    "        for start2, end2 in range2:\n",
    "            low = max(start1, start2)\n",
    "            high = min(end1, end2)\n",
    "            overlap_time.append((low, high))\n",
    "    return overlap_time\n",
    "\n",
    "if __name__ == \"__main__\":\n",
    "    large = time_range(\"2010-01-12 10:00:00\", \"2010-01-12 12:00:00\")\n",
    "    print(large, type(large[0]))\n",
    "    short = time_range(\"2010-01-12 10:30:00\", \"2010-01-12 10:45:00\", 2, 60)\n",
    "    print(compute_overlap_time(large, short))"
   ]
  },
  {
   "cell_type": "code",
   "execution_count": 6,
   "metadata": {},
   "outputs": [
    {
     "name": "stdout",
     "output_type": "stream",
     "text": [
      "7200.0\n",
      "7200.0\n",
      "overlap 2 [('2010-01-12 10:00:00', '2010-01-12 12:00:00')]\n"
     ]
    }
   ],
   "source": [
    "large = time_range(\"2010-01-12 10:00:00\", \"2010-01-12 12:00:00\")\n",
    "short = time_range(\"2010-01-12 10:00:00\", \"2010-01-12 12:00:00\")\n",
    "print('overlap 2', compute_overlap_time(large, short))"
   ]
  },
  {
   "cell_type": "code",
   "execution_count": null,
   "metadata": {},
   "outputs": [],
   "source": []
  }
 ],
 "metadata": {
  "kernelspec": {
   "display_name": "comp0233",
   "language": "python",
   "name": "python3"
  },
  "language_info": {
   "codemirror_mode": {
    "name": "ipython",
    "version": 3
   },
   "file_extension": ".py",
   "mimetype": "text/x-python",
   "name": "python",
   "nbconvert_exporter": "python",
   "pygments_lexer": "ipython3",
   "version": "3.13.0"
  }
 },
 "nbformat": 4,
 "nbformat_minor": 2
}
